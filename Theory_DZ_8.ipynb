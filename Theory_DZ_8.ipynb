{
 "cells": [
  {
   "cell_type": "code",
   "execution_count": 2,
   "id": "a9cfa9c9",
   "metadata": {},
   "outputs": [
    {
     "name": "stdout",
     "output_type": "stream",
     "text": [
      "Defaulting to user installation because normal site-packages is not writeable\n",
      "Collecting scipy\n",
      "  Using cached scipy-1.8.1-cp38-cp38-manylinux_2_17_x86_64.manylinux2014_x86_64.whl (41.6 MB)\n",
      "Requirement already satisfied: numpy<1.25.0,>=1.17.3 in ./.local/lib/python3.8/site-packages (from scipy) (1.20.3)\n",
      "Installing collected packages: scipy\n",
      "Successfully installed scipy-1.8.1\n",
      "\u001b[33mWARNING: You are using pip version 21.1.2; however, version 22.1.1 is available.\n",
      "You should consider upgrading via the '/usr/bin/python3 -m pip install --upgrade pip' command.\u001b[0m\n",
      "Note: you may need to restart the kernel to use updated packages.\n"
     ]
    }
   ],
   "source": [
    "pip install scipy"
   ]
  },
  {
   "cell_type": "code",
   "execution_count": 7,
   "id": "7661ca41",
   "metadata": {},
   "outputs": [],
   "source": [
    "import numpy as np\n",
    "from scipy import stats"
   ]
  },
  {
   "cell_type": "code",
   "execution_count": null,
   "id": "1db68442",
   "metadata": {},
   "outputs": [],
   "source": []
  },
  {
   "cell_type": "code",
   "execution_count": 8,
   "id": "0c34c48e",
   "metadata": {},
   "outputs": [
    {
     "data": {
      "text/plain": [
       "28"
      ]
     },
     "execution_count": 8,
     "metadata": {},
     "output_type": "execute_result"
    }
   ],
   "source": [
    "n1 = 8\n",
    "n2 = 9\n",
    "n3 = 11\n",
    "\n",
    "n = n1 + n2 + n3\n",
    "n"
   ]
  },
  {
   "cell_type": "code",
   "execution_count": 9,
   "id": "da82694f",
   "metadata": {},
   "outputs": [],
   "source": [
    "k = 3"
   ]
  },
  {
   "cell_type": "code",
   "execution_count": 10,
   "id": "fe4d29b8",
   "metadata": {},
   "outputs": [],
   "source": [
    "F = np.array([173,175,180,178,177,185,183,182], dtype = np.float64)"
   ]
  },
  {
   "cell_type": "code",
   "execution_count": 11,
   "id": "43b61659",
   "metadata": {},
   "outputs": [],
   "source": [
    "H = np.array([177,179,180,188,177,172,171,184,180], dtype = np.float64)"
   ]
  },
  {
   "cell_type": "code",
   "execution_count": 12,
   "id": "d24d8c0b",
   "metadata": {},
   "outputs": [],
   "source": [
    "W = np.array([172,173,169,177,166,180,178,177,172,166,170], dtype = np.float64)"
   ]
  },
  {
   "cell_type": "markdown",
   "id": "fcb11890",
   "metadata": {},
   "source": [
    "### Проводим однофакторный дисперсионный анализ:"
   ]
  },
  {
   "cell_type": "code",
   "execution_count": 13,
   "id": "05a547da",
   "metadata": {},
   "outputs": [
    {
     "data": {
      "text/plain": [
       "179.125"
      ]
     },
     "execution_count": 13,
     "metadata": {},
     "output_type": "execute_result"
    }
   ],
   "source": [
    "F_mean = np.mean(F)\n",
    "F_mean"
   ]
  },
  {
   "cell_type": "code",
   "execution_count": 14,
   "id": "3cdb7593",
   "metadata": {},
   "outputs": [
    {
     "data": {
      "text/plain": [
       "178.66666666666666"
      ]
     },
     "execution_count": 14,
     "metadata": {},
     "output_type": "execute_result"
    }
   ],
   "source": [
    "H_mean = np.mean(H)\n",
    "H_mean"
   ]
  },
  {
   "cell_type": "code",
   "execution_count": 15,
   "id": "2d1f7be9",
   "metadata": {},
   "outputs": [
    {
     "data": {
      "text/plain": [
       "172.72727272727272"
      ]
     },
     "execution_count": 15,
     "metadata": {},
     "output_type": "execute_result"
    }
   ],
   "source": [
    "W_mean = np.mean(W)\n",
    "W_mean"
   ]
  },
  {
   "cell_type": "markdown",
   "id": "a75090ac",
   "metadata": {},
   "source": [
    "### Вывод: исходя из полученных значени наглядно видим что разнице в росте\n",
    "### существенно ниже у штангистов по сравнению с хоккеистами и футболистами.\n",
    "### Из этих наблюддений можно сделать вывод что при просмотре команд \n",
    "### на олимпийских играх группа людей чей рост ниже остальных окажутся штангистами))"
   ]
  },
  {
   "cell_type": "markdown",
   "id": "933d3f1f",
   "metadata": {},
   "source": [
    "### Заносим все значения в один массив:"
   ]
  },
  {
   "cell_type": "code",
   "execution_count": 16,
   "id": "c78fe773",
   "metadata": {},
   "outputs": [
    {
     "data": {
      "text/plain": [
       "array([173., 175., 180., 178., 177., 185., 183., 182., 177., 179., 180.,\n",
       "       188., 177., 172., 171., 184., 180., 172., 173., 169., 177., 166.,\n",
       "       180., 178., 177., 172., 166., 170.])"
      ]
     },
     "execution_count": 16,
     "metadata": {},
     "output_type": "execute_result"
    }
   ],
   "source": [
    "FHW_all = np.concatenate([F,H,W])\n",
    "FHW_all"
   ]
  },
  {
   "cell_type": "code",
   "execution_count": 17,
   "id": "f11bb31b",
   "metadata": {},
   "outputs": [
    {
     "data": {
      "text/plain": [
       "176.46428571428572"
      ]
     },
     "execution_count": 17,
     "metadata": {},
     "output_type": "execute_result"
    }
   ],
   "source": [
    "FHW_mean = np.mean(FHW_all)\n",
    "FHW_mean"
   ]
  },
  {
   "cell_type": "markdown",
   "id": "6c47c67c",
   "metadata": {},
   "source": [
    "### Находим сумму квадратов:"
   ]
  },
  {
   "cell_type": "code",
   "execution_count": 18,
   "id": "36da675a",
   "metadata": {},
   "outputs": [
    {
     "data": {
      "text/plain": [
       "830.9642857142854"
      ]
     },
     "execution_count": 18,
     "metadata": {},
     "output_type": "execute_result"
    }
   ],
   "source": [
    "S_2 = np.sum((FHW_all - FHW_mean)**2)\n",
    "S_2"
   ]
  },
  {
   "cell_type": "code",
   "execution_count": 19,
   "id": "fa27d15c",
   "metadata": {},
   "outputs": [
    {
     "data": {
      "text/plain": [
       "253.9074675324678"
      ]
     },
     "execution_count": 19,
     "metadata": {},
     "output_type": "execute_result"
    }
   ],
   "source": [
    "S_2f = ((F_mean - FHW_mean)**2)*n1 + ((H_mean - FHW_mean)**2)*n2 + ((W_mean - FHW_mean)**2)*n3\n",
    "S_2f"
   ]
  },
  {
   "cell_type": "code",
   "execution_count": null,
   "id": "0ddd155a",
   "metadata": {},
   "outputs": [],
   "source": []
  },
  {
   "cell_type": "markdown",
   "id": "d22d76a6",
   "metadata": {},
   "source": [
    "### Находим общую дисперсию:"
   ]
  },
  {
   "cell_type": "code",
   "execution_count": 20,
   "id": "15b47808",
   "metadata": {},
   "outputs": [
    {
     "data": {
      "text/plain": [
       "30.776455026455015"
      ]
     },
     "execution_count": 20,
     "metadata": {},
     "output_type": "execute_result"
    }
   ],
   "source": [
    "sigma2_general = S_2 / (n-1)\n",
    "sigma2_general"
   ]
  },
  {
   "cell_type": "markdown",
   "id": "ab10d7aa",
   "metadata": {},
   "source": [
    "### Находим факторную дисперсию:"
   ]
  },
  {
   "cell_type": "code",
   "execution_count": 22,
   "id": "4eee7420",
   "metadata": {},
   "outputs": [
    {
     "data": {
      "text/plain": [
       "126.9537337662339"
      ]
     },
     "execution_count": 22,
     "metadata": {},
     "output_type": "execute_result"
    }
   ],
   "source": [
    "sigma2_f = S_2f / (k-1)\n",
    "sigma2_f"
   ]
  },
  {
   "cell_type": "markdown",
   "id": "e4ab5044",
   "metadata": {},
   "source": [
    "### Находим остаточную дисперсию:"
   ]
  },
  {
   "cell_type": "code",
   "execution_count": null,
   "id": "4018b408",
   "metadata": {},
   "outputs": [],
   "source": [
    "sigma2_residual = "
   ]
  },
  {
   "cell_type": "markdown",
   "id": "a3e744a8",
   "metadata": {},
   "source": []
  },
  {
   "cell_type": "markdown",
   "id": "7359de20",
   "metadata": {},
   "source": [
    "### Убедимся что соблюдено равенство:"
   ]
  },
  {
   "cell_type": "code",
   "execution_count": 21,
   "id": "53f75e32",
   "metadata": {},
   "outputs": [
    {
     "data": {
      "text/plain": [
       "3.3851899614491687"
      ]
     },
     "execution_count": 21,
     "metadata": {},
     "output_type": "execute_result"
    }
   ],
   "source": [
    "St = stats.f.ppf(0.95,2,25)\n",
    "St"
   ]
  },
  {
   "cell_type": "code",
   "execution_count": null,
   "id": "babd849e",
   "metadata": {},
   "outputs": [],
   "source": []
  },
  {
   "cell_type": "code",
   "execution_count": null,
   "id": "7f568d0d",
   "metadata": {},
   "outputs": [],
   "source": []
  }
 ],
 "metadata": {
  "kernelspec": {
   "display_name": "Python 3",
   "language": "python",
   "name": "python3"
  },
  "language_info": {
   "codemirror_mode": {
    "name": "ipython",
    "version": 3
   },
   "file_extension": ".py",
   "mimetype": "text/x-python",
   "name": "python",
   "nbconvert_exporter": "python",
   "pygments_lexer": "ipython3",
   "version": "3.8.10"
  }
 },
 "nbformat": 4,
 "nbformat_minor": 5
}
