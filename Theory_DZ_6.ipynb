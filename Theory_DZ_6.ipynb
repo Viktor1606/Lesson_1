{
 "cells": [
  {
   "cell_type": "code",
   "execution_count": 1,
   "id": "5104c5d7",
   "metadata": {},
   "outputs": [],
   "source": [
    "import numpy as np\n",
    "import pandas as pd"
   ]
  },
  {
   "cell_type": "code",
   "execution_count": 10,
   "id": "56708ddc",
   "metadata": {},
   "outputs": [],
   "source": [
    "zp = np.array([35,45,190,200,40,70,54,150,120,110], dtype=np.float64)"
   ]
  },
  {
   "cell_type": "code",
   "execution_count": 12,
   "id": "e8a82e93",
   "metadata": {},
   "outputs": [],
   "source": [
    "ks = np.array([401,574,874,919,459,739,653,902,746,832], dtype=np.float64)"
   ]
  },
  {
   "cell_type": "markdown",
   "id": "f9a7933d",
   "metadata": {},
   "source": [
    "### Находим кавориацию по формуле:"
   ]
  },
  {
   "cell_type": "code",
   "execution_count": 17,
   "id": "d3740619",
   "metadata": {},
   "outputs": [
    {
     "data": {
      "text/plain": [
       "9157.839999999997"
      ]
     },
     "execution_count": 17,
     "metadata": {},
     "output_type": "execute_result"
    }
   ],
   "source": [
    "cov = np.mean(zp*ks)- np.mean(zp)*np.mean(ks)\n",
    "cov"
   ]
  },
  {
   "cell_type": "markdown",
   "id": "5bc0d7bc",
   "metadata": {},
   "source": [
    "### Найдем смещенную ковариацию:"
   ]
  },
  {
   "cell_type": "code",
   "execution_count": 19,
   "id": "9f00d897",
   "metadata": {},
   "outputs": [
    {
     "data": {
      "text/plain": [
       "array([[ 3494.64,  9157.84],\n",
       "       [ 9157.84, 30468.89]])"
      ]
     },
     "execution_count": 19,
     "metadata": {},
     "output_type": "execute_result"
    }
   ],
   "source": [
    "cov_n = np.cov(zp,ks,ddof=0)\n",
    "cov_n"
   ]
  },
  {
   "cell_type": "code",
   "execution_count": 22,
   "id": "7737f3c3",
   "metadata": {},
   "outputs": [
    {
     "data": {
      "text/plain": [
       "59.115480206118605"
      ]
     },
     "execution_count": 22,
     "metadata": {},
     "output_type": "execute_result"
    }
   ],
   "source": [
    "X = np.std(zp)\n",
    "X"
   ]
  },
  {
   "cell_type": "code",
   "execution_count": 23,
   "id": "1a981072",
   "metadata": {},
   "outputs": [
    {
     "data": {
      "text/plain": [
       "174.55340157098058"
      ]
     },
     "execution_count": 23,
     "metadata": {},
     "output_type": "execute_result"
    }
   ],
   "source": [
    "Y = np.std(ks)\n",
    "Y"
   ]
  },
  {
   "cell_type": "code",
   "execution_count": 24,
   "id": "1f77cbda",
   "metadata": {},
   "outputs": [
    {
     "data": {
      "text/plain": [
       "0.8874900920739162"
      ]
     },
     "execution_count": 24,
     "metadata": {},
     "output_type": "execute_result"
    }
   ],
   "source": [
    "Z = 9157.84/(X*Y)\n",
    "Z"
   ]
  },
  {
   "cell_type": "markdown",
   "id": "ff733d99",
   "metadata": {},
   "source": [
    "### Найдем коэффициент корреляции Пирсона:"
   ]
  },
  {
   "cell_type": "code",
   "execution_count": 20,
   "id": "5d98af6e",
   "metadata": {},
   "outputs": [
    {
     "data": {
      "text/plain": [
       "array([[1.        , 0.88749009],\n",
       "       [0.88749009, 1.        ]])"
      ]
     },
     "execution_count": 20,
     "metadata": {},
     "output_type": "execute_result"
    }
   ],
   "source": [
    "cov_p = np.corrcoef(zp,ks)\n",
    "cov_p"
   ]
  },
  {
   "cell_type": "code",
   "execution_count": null,
   "id": "9f47b8e0",
   "metadata": {},
   "outputs": [],
   "source": []
  },
  {
   "cell_type": "code",
   "execution_count": 28,
   "id": "d5a9e526",
   "metadata": {},
   "outputs": [],
   "source": [
    "IQ = np.array([131,125,115,122,131,115,107,99,125,111])"
   ]
  },
  {
   "cell_type": "markdown",
   "id": "755a2ec5",
   "metadata": {},
   "source": [
    "### Найдем среднее арифметическое:"
   ]
  },
  {
   "cell_type": "code",
   "execution_count": 29,
   "id": "bab2c83f",
   "metadata": {},
   "outputs": [
    {
     "data": {
      "text/plain": [
       "118.1"
      ]
     },
     "execution_count": 29,
     "metadata": {},
     "output_type": "execute_result"
    }
   ],
   "source": [
    "IQ.mean()"
   ]
  },
  {
   "cell_type": "code",
   "execution_count": 32,
   "id": "632a69b9",
   "metadata": {},
   "outputs": [
    {
     "data": {
      "text/plain": [
       "0.25"
      ]
     },
     "execution_count": 32,
     "metadata": {},
     "output_type": "execute_result"
    }
   ],
   "source": [
    "alpha = 0.5/2\n",
    "alpha"
   ]
  },
  {
   "cell_type": "code",
   "execution_count": 33,
   "id": "639f285d",
   "metadata": {},
   "outputs": [
    {
     "data": {
      "text/plain": [
       "9"
      ]
     },
     "execution_count": 33,
     "metadata": {},
     "output_type": "execute_result"
    }
   ],
   "source": [
    "df = len(IQ)-1\n",
    "df"
   ]
  },
  {
   "cell_type": "markdown",
   "id": "62a2ce8e",
   "metadata": {},
   "source": [
    "### Воспользуемся таблицей Стьюдента:"
   ]
  },
  {
   "cell_type": "code",
   "execution_count": 34,
   "id": "70bb0fa0",
   "metadata": {},
   "outputs": [],
   "source": [
    "st = 2.262"
   ]
  },
  {
   "cell_type": "code",
   "execution_count": 35,
   "id": "ff66583c",
   "metadata": {},
   "outputs": [
    {
     "data": {
      "text/plain": [
       "110.55660776308164"
      ]
     },
     "execution_count": 35,
     "metadata": {},
     "output_type": "execute_result"
    }
   ],
   "source": [
    "IQ.mean()-(st*(IQ.std(ddof=1))/((10)**0.5))"
   ]
  },
  {
   "cell_type": "code",
   "execution_count": 36,
   "id": "cac0c8fc",
   "metadata": {},
   "outputs": [
    {
     "data": {
      "text/plain": [
       "125.64339223691834"
      ]
     },
     "execution_count": 36,
     "metadata": {},
     "output_type": "execute_result"
    }
   ],
   "source": [
    "IQ.mean()+(st*(IQ.std(ddof=1))/((10)**0.5))"
   ]
  },
  {
   "cell_type": "code",
   "execution_count": null,
   "id": "a8f8db03",
   "metadata": {},
   "outputs": [],
   "source": []
  },
  {
   "cell_type": "code",
   "execution_count": 37,
   "id": "d98115cf",
   "metadata": {},
   "outputs": [],
   "source": [
    "std = 5"
   ]
  },
  {
   "cell_type": "code",
   "execution_count": 38,
   "id": "56ffddd2",
   "metadata": {},
   "outputs": [],
   "source": [
    "n = 27"
   ]
  },
  {
   "cell_type": "code",
   "execution_count": 39,
   "id": "f2d81dfc",
   "metadata": {},
   "outputs": [],
   "source": [
    "mu = 174.2"
   ]
  },
  {
   "cell_type": "code",
   "execution_count": 41,
   "id": "93352b62",
   "metadata": {},
   "outputs": [
    {
     "data": {
      "text/plain": [
       "0.25"
      ]
     },
     "execution_count": 41,
     "metadata": {},
     "output_type": "execute_result"
    }
   ],
   "source": [
    "alpha = 0.5/2\n",
    "alpha"
   ]
  },
  {
   "cell_type": "markdown",
   "id": "e7da3bf3",
   "metadata": {},
   "source": [
    "### Так как не известна дисперсия воспользуемся Z критерием:"
   ]
  },
  {
   "cell_type": "code",
   "execution_count": 42,
   "id": "00dfa64e",
   "metadata": {},
   "outputs": [],
   "source": [
    "zt = 1.96"
   ]
  },
  {
   "cell_type": "code",
   "execution_count": 45,
   "id": "c393a85d",
   "metadata": {},
   "outputs": [],
   "source": [
    "X = mu-(zt*std/(27)**0.5)"
   ]
  },
  {
   "cell_type": "code",
   "execution_count": 46,
   "id": "9376e881",
   "metadata": {},
   "outputs": [],
   "source": [
    "Y = mu+(zt*std/(27)**0.5)"
   ]
  },
  {
   "cell_type": "code",
   "execution_count": 51,
   "id": "2e87f482",
   "metadata": {},
   "outputs": [
    {
     "data": {
      "text/plain": [
       "('Разница в росте составит:', [172.31398912064722, 176.08601087935276])"
      ]
     },
     "execution_count": 51,
     "metadata": {},
     "output_type": "execute_result"
    }
   ],
   "source": [
    "H = (f'Разница в росте составит:',[X,Y])\n",
    "H"
   ]
  },
  {
   "cell_type": "code",
   "execution_count": null,
   "id": "1fa6b00f",
   "metadata": {},
   "outputs": [],
   "source": []
  }
 ],
 "metadata": {
  "kernelspec": {
   "display_name": "Python 3",
   "language": "python",
   "name": "python3"
  },
  "language_info": {
   "codemirror_mode": {
    "name": "ipython",
    "version": 3
   },
   "file_extension": ".py",
   "mimetype": "text/x-python",
   "name": "python",
   "nbconvert_exporter": "python",
   "pygments_lexer": "ipython3",
   "version": "3.8.10"
  }
 },
 "nbformat": 4,
 "nbformat_minor": 5
}
